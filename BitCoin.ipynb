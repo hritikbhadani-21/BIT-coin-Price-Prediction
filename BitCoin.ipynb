{
 "cells": [
  {
   "cell_type": "code",
   "execution_count": 1,
   "id": "4000a05b-0cea-46e9-a301-bb4cd0156bf7",
   "metadata": {},
   "outputs": [],
   "source": [
    "import numpy as np\n",
    "import pandas as pd\n",
    "from sklearn.model_selection import train_test_split\n",
    "from sklearn.svm import SVR\n",
    "\n",
    "\n",
    "\n",
    "\n",
    "\n",
    "\n",
    "\n",
    "\n",
    "\n",
    "\n"
   ]
  },
  {
   "cell_type": "code",
   "execution_count": 2,
   "id": "9f733cf6-f2de-4c3a-a977-728ec77b12b8",
   "metadata": {},
   "outputs": [],
   "source": [
    "# Load data\n",
    "df = pd.read_csv(\"bitcoin.csv\")\n",
    "\n",
    "# Drop 'Date' column\n",
    "df.drop(['Date'], axis=1, inplace=True)"
   ]
  },
  {
   "cell_type": "code",
   "execution_count": 3,
   "id": "822ab125-fba3-49da-8559-97565600aa7e",
   "metadata": {},
   "outputs": [],
   "source": [
    "# Define prediction days and create prediction column\n",
    "predictionDays = 30\n",
    "df['Prediction'] = df[['Price']].shift(-predictionDays)\n",
    "\n",
    "# Prepare independent (x) and dependent (y) datasets\n",
    "x = np.array(df.drop(['Prediction'], axis=1))\n",
    "x = x[:len(df) - predictionDays]  # Remove last 'n' rows\n",
    "\n",
    "y = np.array(df['Prediction'])\n",
    "y = y[:-predictionDays]  # Remove last 'n' rows"
   ]
  },
  {
   "cell_type": "code",
   "execution_count": 4,
   "id": "3f6a0978-225a-4165-a6d9-8920c976a873",
   "metadata": {},
   "outputs": [],
   "source": [
    "# Split the data into training and testing sets\n",
    "xtrain, xtest, ytrain, ytest = train_test_split(x, y, test_size=0.2)\n",
    "\n",
    "# Set up prediction days array\n",
    "predictionDays_array = np.array(df.drop(['Prediction'], axis=1))[-predictionDays:]\n"
   ]
  },
  {
   "cell_type": "code",
   "execution_count": 5,
   "id": "b1911165-cb07-4ca4-910f-02e1fcd9eb92",
   "metadata": {},
   "outputs": [
    {
     "name": "stdout",
     "output_type": "stream",
     "text": [
      "SVR_RBF accuracy: -0.14146894412841848\n"
     ]
    }
   ],
   "source": [
    "# Create and train the model\n",
    "svr_rbf = SVR(kernel='rbf', C=1e3, gamma=0.00001)\n",
    "svr_rbf.fit(xtrain, ytrain)\n",
    "\n",
    "# Evaluate the model\n",
    "svr_rbf_confidence = svr_rbf.score(xtest, ytest)\n",
    "print('SVR_RBF accuracy:', svr_rbf_confidence)"
   ]
  },
  {
   "cell_type": "code",
   "execution_count": 6,
   "id": "c62dd5be-349b-4f82-9089-2ec0a5f9cd1f",
   "metadata": {},
   "outputs": [
    {
     "name": "stdout",
     "output_type": "stream",
     "text": [
      "Predicted: [ 8472.3190254   8689.27560648  7546.23056314  8798.27379771\n",
      "  8377.8230605   8319.22189009  8057.59275434  8793.21924339\n",
      "  8657.04889001  8588.66584683  8306.94430808  9427.67943653\n",
      "  7601.45810351  9234.39933159  8424.00717516  9979.72089828\n",
      "  8687.22799724  7162.16633214  8390.99463122  8330.8615748\n",
      "  9396.92747332  7500.15319504  8394.91883137  8900.3173292\n",
      "  8825.87204195  8652.08869824  8330.82580447  8713.11594728\n",
      "  8685.04796814  8677.4714937   8370.50800487  8807.35841643\n",
      "  9208.1008227   9598.2739784   8727.38939879  7536.80215329\n",
      "  8735.18345251  9371.39729104  7865.162206    7506.88257593\n",
      "  8679.16817922  8242.97084402  8649.30081548  8304.10363091\n",
      "  9332.22067146  8488.2336594  10336.53183401  8016.38656843\n",
      "  7916.63471371  8355.97010726  8673.66073358  7172.7395993\n",
      "  9375.26208813  7790.87471984  7888.37344271  8080.89302305\n",
      "  9131.82713216  8361.83168727  8309.52102123  8336.60617418\n",
      "  8571.93458016  8318.06139945  9234.97768625 10355.06913949\n",
      "  7992.30443972  9162.69262495  7888.77044058  8578.20217403]\n",
      "Actual: [ 7271.78125   6733.387207  9078.762695  8037.537598 10978.45996\n",
      "  8118.967773  9693.802734  9392.875    11790.91699   8723.786133\n",
      "  8078.203125  8550.760742 11215.4375    9256.148438  8321.005859\n",
      " 10231.74414   9608.475586  7807.058594 10241.27246  10181.6416\n",
      " 11815.98633   8801.038086  8205.369141  7429.724609  8166.554199\n",
      " 12407.33203   8620.566406  8228.783203  9316.629883  7269.68457\n",
      "  8595.740234  9377.013672 10345.81055   8205.939453  9870.303711\n",
      "  8658.553711  8445.43457  10116.67383  10407.96484  12573.8125\n",
      " 13016.23145   8293.868164  9341.705078  8103.911133 10208.23633\n",
      "  7252.034668 11354.02441  10159.96094   8755.246094  5563.707031\n",
      "  7511.588867  7795.601074  9729.801758  7556.237793  8251.845703\n",
      "  7321.988281  9757.970703 11208.55078   5200.366211 10358.04883\n",
      " 10070.39258   9598.173828  9360.879883 10518.17481  10131.05566\n",
      " 12285.95801   7410.656738  8406.515625]\n",
      "Future predictions for next 30 days: [7399.8110279  7353.95959634 7472.51983296 8169.91203281 8253.07285116\n",
      " 8682.04342388 8651.79247992 8598.33080872 8136.75479586 8512.83224701\n",
      " 8463.00643674 8065.85843258 7796.32866243 8106.44755461 7891.18144667\n",
      " 8381.62103667 8689.46928762 8648.02823211 8680.00398296 7801.9396264\n",
      " 7921.6559178  8099.45351448 8345.96927905 8095.20150765 7936.14513454\n",
      " 7930.98246184 8580.13052876 7708.62328834 7547.56347384 7545.53344105]\n"
     ]
    }
   ],
   "source": [
    "# Print predictions on test data and the actual test labels\n",
    "svm_prediction = svr_rbf.predict(xtest)\n",
    "print(\"Predicted:\", svm_prediction)\n",
    "print(\"Actual:\", ytest)\n",
    "\n",
    "# Print the model predictions for the next 30 days\n",
    "future_prediction = svr_rbf.predict(predictionDays_array)\n",
    "print(\"Future predictions for next 30 days:\", future_prediction)\n"
   ]
  },
  {
   "cell_type": "code",
   "execution_count": 7,
   "id": "323d776c-c911-4864-934d-d4fac3556fdb",
   "metadata": {},
   "outputs": [
    {
     "name": "stdout",
     "output_type": "stream",
     "text": [
      "Actual last 30 days prices:\n",
      "           Price  Prediction\n",
      "337  7550.900879         NaN\n",
      "338  7569.936035         NaN\n",
      "339  7679.867188         NaN\n",
      "340  7795.601074         NaN\n",
      "341  7807.058594         NaN\n",
      "342  8801.038086         NaN\n",
      "343  8658.553711         NaN\n",
      "344  8864.766602         NaN\n",
      "345  8988.596680         NaN\n",
      "346  8897.468750         NaN\n",
      "347  8912.654297         NaN\n",
      "348  9003.070313         NaN\n",
      "349  9268.761719         NaN\n",
      "350  9951.518555         NaN\n",
      "351  9842.666016         NaN\n",
      "352  9593.896484         NaN\n",
      "353  8756.430664         NaN\n",
      "354  8601.795898         NaN\n",
      "355  8804.477539         NaN\n",
      "356  9269.987305         NaN\n",
      "357  9733.721680         NaN\n",
      "358  9328.197266         NaN\n",
      "359  9377.013672         NaN\n",
      "360  9670.739258         NaN\n",
      "361  9726.575195         NaN\n",
      "362  9729.038086         NaN\n",
      "363  9522.981445         NaN\n",
      "364  9081.761719         NaN\n",
      "365  9182.577148         NaN\n",
      "366  9180.045898         NaN\n"
     ]
    }
   ],
   "source": [
    "# Print the actual prices for the last 30 days\n",
    "print(\"Actual last 30 days prices:\")\n",
    "print(df.tail(predictionDays))"
   ]
  },
  {
   "cell_type": "code",
   "execution_count": null,
   "id": "59987bf2-18c0-4dc1-a393-1742c4689203",
   "metadata": {},
   "outputs": [],
   "source": [
    "import matplotlib.pyplot as plt\n",
    "\n",
    "# Plot actual vs. predicted prices for the test data\n",
    "plt.figure(figsize=(14, 7))\n",
    "\n",
    "# Plot actual prices from the test set\n",
    "plt.plot(range(len(ytest)), ytest, color='blue', label='Actual Price (Test Data)')\n",
    "\n",
    "# Plot predicted prices from the test set\n",
    "plt.plot(range(len(svm_prediction)), svm_prediction, color='red', linestyle='dashed', label='Predicted Price (Test Data)')\n",
    "\n",
    "plt.title('Actual vs Predicted Bitcoin Prices on Test Data')\n",
    "plt.xlabel('Data Points')\n",
    "plt.ylabel('Price')\n",
    "plt.legend()\n",
    "plt.show()\n",
    "\n",
    "# Visualization of the entire dataset with future predictions\n",
    "# Create a range for plotting actual and future predictions\n",
    "total_data_range = list(range(len(df)))\n",
    "future_data_range = list(range(len(df), len(df) + predictionDays))\n",
    "\n",
    "# Plot the actual prices\n",
    "plt.figure(figsize=(14, 7))\n",
    "plt.plot(total_data_range, df['Price'], color='blue', label='Actual Price (Historical Data)')\n",
    "\n",
    "# Plot the predictions for the next 30 days\n",
    "plt.plot(future_data_range, future_prediction, color='orange', linestyle='dashed', label='Predicted Price (Next 30 Days)')\n",
    "\n",
    "plt.title('Bitcoin Price Prediction for Next 30 Days')\n",
    "plt.xlabel('Data Points')\n",
    "plt.ylabel('Price')\n",
    "plt.legend()\n",
    "plt.show()\n"
   ]
  },
  {
   "cell_type": "code",
   "execution_count": null,
   "id": "5c382af4-671e-4770-b430-f9f4f66f21d6",
   "metadata": {},
   "outputs": [],
   "source": []
  }
 ],
 "metadata": {
  "kernelspec": {
   "display_name": "Python 3 (ipykernel)",
   "language": "python",
   "name": "python3"
  },
  "language_info": {
   "codemirror_mode": {
    "name": "ipython",
    "version": 3
   },
   "file_extension": ".py",
   "mimetype": "text/x-python",
   "name": "python",
   "nbconvert_exporter": "python",
   "pygments_lexer": "ipython3",
   "version": "3.12.4"
  }
 },
 "nbformat": 4,
 "nbformat_minor": 5
}
